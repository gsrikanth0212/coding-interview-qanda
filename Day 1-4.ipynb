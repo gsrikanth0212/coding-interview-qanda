{
 "cells": [
  {
   "cell_type": "markdown",
   "metadata": {
    "application/vnd.databricks.v1+cell": {
     "cellMetadata": {},
     "inputWidgets": {},
     "nuid": "c37d7483-aaf4-415d-a339-3caf26c2b82d",
     "showTitle": false,
     "tableResultSettingsMap": {},
     "title": ""
    }
   },
   "source": [
    "\n",
    "**1. A table named “famous” has two columns called user id and follower id. It represents each user ID has a particular follower ID. These follower IDs are also users of Facebook /Meta. Then, find the famous percentage of each user.Famous Percentage = number of followers a user has / total number of users on the platform**\n"
   ]
  },
  {
   "cell_type": "code",
   "execution_count": 0,
   "metadata": {
    "application/vnd.databricks.v1+cell": {
     "cellMetadata": {
      "byteLimit": 2048000,
      "implicitDf": true,
      "rowLimit": 10000
     },
     "inputWidgets": {},
     "nuid": "b8798127-a99b-423b-9c10-8c92602eeb60",
     "showTitle": false,
     "tableResultSettingsMap": {},
     "title": ""
    },
    "jupyter": {
     "outputs_hidden": true
    }
   },
   "outputs": [
    {
     "output_type": "display_data",
     "data": {
      "text/html": [
       "<style scoped>\n",
       "  .table-result-container {\n",
       "    max-height: 300px;\n",
       "    overflow: auto;\n",
       "  }\n",
       "  table, th, td {\n",
       "    border: 1px solid black;\n",
       "    border-collapse: collapse;\n",
       "  }\n",
       "  th, td {\n",
       "    padding: 5px;\n",
       "  }\n",
       "  th {\n",
       "    text-align: left;\n",
       "  }\n",
       "</style><div class='table-result-container'><table class='table-result'><thead style='background-color: white'><tr><th>num_affected_rows</th><th>num_inserted_rows</th></tr></thead><tbody><tr><td>13</td><td>13</td></tr></tbody></table></div>"
      ]
     },
     "metadata": {
      "application/vnd.databricks.v1+output": {
       "addedWidgets": {},
       "aggData": [],
       "aggError": "",
       "aggOverflow": false,
       "aggSchema": [],
       "aggSeriesLimitReached": false,
       "aggType": "",
       "arguments": {},
       "columnCustomDisplayInfos": {},
       "data": [
        [
         13,
         13
        ]
       ],
       "datasetInfos": [],
       "dbfsResultPath": null,
       "isJsonSchema": true,
       "metadata": {},
       "overflow": false,
       "plotOptions": {
        "customPlotOptions": {},
        "displayType": "table",
        "pivotAggregation": null,
        "pivotColumns": null,
        "xColumns": null,
        "yColumns": null
       },
       "removedWidgets": [],
       "schema": [
        {
         "metadata": "{}",
         "name": "num_affected_rows",
         "type": "\"long\""
        },
        {
         "metadata": "{}",
         "name": "num_inserted_rows",
         "type": "\"long\""
        }
       ],
       "type": "table"
      }
     },
     "output_type": "display_data"
    }
   ],
   "source": [
    "%sql\n",
    "CREATE TABLE famous (user_id INT, follower_id INT);\n",
    "INSERT INTO famous VALUES\n",
    "(1, 2), (1, 3), (2, 4), (5, 1), (5, 3), \n",
    "(11, 7), (12, 8), (13, 5), (13, 10), \n",
    "(14, 12), (14, 3), (15, 14), (15, 13);"
   ]
  },
  {
   "cell_type": "code",
   "execution_count": 0,
   "metadata": {
    "application/vnd.databricks.v1+cell": {
     "cellMetadata": {
      "byteLimit": 2048000,
      "implicitDf": true,
      "rowLimit": 10000
     },
     "inputWidgets": {},
     "nuid": "e3f1fca5-9fd8-40eb-9033-9bda3560ecda",
     "showTitle": false,
     "tableResultSettingsMap": {},
     "title": ""
    }
   },
   "outputs": [
    {
     "output_type": "display_data",
     "data": {
      "text/html": [
       "<style scoped>\n",
       "  .table-result-container {\n",
       "    max-height: 300px;\n",
       "    overflow: auto;\n",
       "  }\n",
       "  table, th, td {\n",
       "    border: 1px solid black;\n",
       "    border-collapse: collapse;\n",
       "  }\n",
       "  th, td {\n",
       "    padding: 5px;\n",
       "  }\n",
       "  th {\n",
       "    text-align: left;\n",
       "  }\n",
       "</style><div class='table-result-container'><table class='table-result'><thead style='background-color: white'><tr><th>user</th><th>follower_perc</th></tr></thead><tbody><tr><td>1</td><td>15.38</td></tr><tr><td>2</td><td>7.69</td></tr><tr><td>5</td><td>15.38</td></tr><tr><td>11</td><td>7.69</td></tr><tr><td>12</td><td>7.69</td></tr><tr><td>13</td><td>15.38</td></tr><tr><td>14</td><td>15.38</td></tr><tr><td>15</td><td>15.38</td></tr></tbody></table></div>"
      ]
     },
     "metadata": {
      "application/vnd.databricks.v1+output": {
       "addedWidgets": {},
       "aggData": [],
       "aggError": "",
       "aggOverflow": false,
       "aggSchema": [],
       "aggSeriesLimitReached": false,
       "aggType": "",
       "arguments": {},
       "columnCustomDisplayInfos": {},
       "data": [
        [
         1,
         "15.38"
        ],
        [
         2,
         "7.69"
        ],
        [
         5,
         "15.38"
        ],
        [
         11,
         "7.69"
        ],
        [
         12,
         "7.69"
        ],
        [
         13,
         "15.38"
        ],
        [
         14,
         "15.38"
        ],
        [
         15,
         "15.38"
        ]
       ],
       "datasetInfos": [],
       "dbfsResultPath": null,
       "isJsonSchema": true,
       "metadata": {},
       "overflow": false,
       "plotOptions": {
        "customPlotOptions": {},
        "displayType": "table",
        "pivotAggregation": null,
        "pivotColumns": null,
        "xColumns": null,
        "yColumns": null
       },
       "removedWidgets": [],
       "schema": [
        {
         "metadata": "{}",
         "name": "user",
         "type": "\"integer\""
        },
        {
         "metadata": "{}",
         "name": "follower_perc",
         "type": "\"decimal(27,2)\""
        }
       ],
       "type": "table"
      }
     },
     "output_type": "display_data"
    }
   ],
   "source": [
    "%sql\n",
    "WITH users AS (\n",
    "  SELECT user_id as user FROM famous\n",
    "  UNION\n",
    "  SELECT follower_id as user FROM famous\n",
    "),\n",
    "follwer_cnt AS (\n",
    "  SELECT user_id, count(follower_id) as follower_cnt FROM famous GROUP BY user_id\n",
    ")\n",
    "SELECT u.user, round((f.follower_cnt*100.00)/(SELECT count(user) FROM users), 2) as follower_perc FROM users u JOIN follwer_cnt f \n",
    "ON u.`user`=f.user_id order by u.user \n"
   ]
  },
  {
   "cell_type": "code",
   "execution_count": 0,
   "metadata": {
    "application/vnd.databricks.v1+cell": {
     "cellMetadata": {
      "byteLimit": 2048000,
      "rowLimit": 10000
     },
     "inputWidgets": {},
     "nuid": "046923d2-1c95-4067-964d-4c6fb6903598",
     "showTitle": false,
     "tableResultSettingsMap": {},
     "title": ""
    }
   },
   "outputs": [
    {
     "output_type": "stream",
     "name": "stdout",
     "output_type": "stream",
     "text": [
      "+-------+-----------+\n|user_id|famous_perc|\n+-------+-----------+\n|      1|      15.38|\n|      2|       7.69|\n|      5|      15.38|\n|     11|       7.69|\n|     12|       7.69|\n|     13|      15.38|\n|     14|      15.38|\n|     15|      15.38|\n+-------+-----------+\n\n"
     ]
    },
    {
     "output_type": "display_data",
     "data": {
      "text/html": [
       "<div>\n",
       "<style scoped>\n",
       "    .dataframe tbody tr th:only-of-type {\n",
       "        vertical-align: middle;\n",
       "    }\n",
       "\n",
       "    .dataframe tbody tr th {\n",
       "        vertical-align: top;\n",
       "    }\n",
       "\n",
       "    .dataframe thead th {\n",
       "        text-align: right;\n",
       "    }\n",
       "</style>\n",
       "<table border=\"1\" class=\"dataframe\">\n",
       "  <thead>\n",
       "    <tr style=\"text-align: right;\">\n",
       "      <th></th>\n",
       "      <th>user_id</th>\n",
       "      <th>famous_perc</th>\n",
       "    </tr>\n",
       "  </thead>\n",
       "  <tbody>\n",
       "    <tr>\n",
       "      <th>0</th>\n",
       "      <td>1</td>\n",
       "      <td>15.38</td>\n",
       "    </tr>\n",
       "    <tr>\n",
       "      <th>1</th>\n",
       "      <td>2</td>\n",
       "      <td>7.69</td>\n",
       "    </tr>\n",
       "    <tr>\n",
       "      <th>2</th>\n",
       "      <td>5</td>\n",
       "      <td>15.38</td>\n",
       "    </tr>\n",
       "    <tr>\n",
       "      <th>3</th>\n",
       "      <td>11</td>\n",
       "      <td>7.69</td>\n",
       "    </tr>\n",
       "    <tr>\n",
       "      <th>4</th>\n",
       "      <td>12</td>\n",
       "      <td>7.69</td>\n",
       "    </tr>\n",
       "    <tr>\n",
       "      <th>5</th>\n",
       "      <td>13</td>\n",
       "      <td>15.38</td>\n",
       "    </tr>\n",
       "    <tr>\n",
       "      <th>6</th>\n",
       "      <td>14</td>\n",
       "      <td>15.38</td>\n",
       "    </tr>\n",
       "    <tr>\n",
       "      <th>7</th>\n",
       "      <td>15</td>\n",
       "      <td>15.38</td>\n",
       "    </tr>\n",
       "  </tbody>\n",
       "</table>\n",
       "</div>"
      ]
     },
     "metadata": {
      "application/vnd.databricks.v1+output": {
       "addedWidgets": {},
       "arguments": {},
       "data": "<div>\n<style scoped>\n    .dataframe tbody tr th:only-of-type {\n        vertical-align: middle;\n    }\n\n    .dataframe tbody tr th {\n        vertical-align: top;\n    }\n\n    .dataframe thead th {\n        text-align: right;\n    }\n</style>\n<table border=\"1\" class=\"dataframe\">\n  <thead>\n    <tr style=\"text-align: right;\">\n      <th></th>\n      <th>user_id</th>\n      <th>famous_perc</th>\n    </tr>\n  </thead>\n  <tbody>\n    <tr>\n      <th>0</th>\n      <td>1</td>\n      <td>15.38</td>\n    </tr>\n    <tr>\n      <th>1</th>\n      <td>2</td>\n      <td>7.69</td>\n    </tr>\n    <tr>\n      <th>2</th>\n      <td>5</td>\n      <td>15.38</td>\n    </tr>\n    <tr>\n      <th>3</th>\n      <td>11</td>\n      <td>7.69</td>\n    </tr>\n    <tr>\n      <th>4</th>\n      <td>12</td>\n      <td>7.69</td>\n    </tr>\n    <tr>\n      <th>5</th>\n      <td>13</td>\n      <td>15.38</td>\n    </tr>\n    <tr>\n      <th>6</th>\n      <td>14</td>\n      <td>15.38</td>\n    </tr>\n    <tr>\n      <th>7</th>\n      <td>15</td>\n      <td>15.38</td>\n    </tr>\n  </tbody>\n</table>\n</div>",
       "datasetInfos": [],
       "metadata": {},
       "removedWidgets": [],
       "textData": null,
       "type": "htmlSandbox"
      }
     },
     "output_type": "display_data"
    }
   ],
   "source": [
    "\n",
    "#-----------------------PySpark---------------------------------------------------------------\n",
    "\n",
    "import datetime\n",
    "from pyspark.sql.functions import col, round\n",
    "famous_df_columns = [\"user_id\", \"follower_id\"]\n",
    "famous_data = [(1, 2), (1, 3), (2, 4), (5, 1), (5, 3), \n",
    "(11, 7), (12, 8), (13, 5), (13, 10), \n",
    "(14, 12), (14, 3), (15, 14), (15, 13)]\n",
    "\n",
    "famous_df = spark.createDataFrame(data = famous_data, schema = famous_df_columns)\n",
    "df1 = famous_df.select('user_id').alias('user')\n",
    "df2 = famous_df.select('follower_id').alias('user')\n",
    "users_df = df1.union(df2).distinct()\n",
    "total_users = users_df.count()\n",
    "follower_cnt_df = famous_df.groupBy(\"user_id\").count().withColumnRenamed('count', 'follower_cnt')\n",
    "famous_perc_df = follower_cnt_df.select(\"user_id\",\"follower_cnt\").withColumn(\"famous_perc\", round((follower_cnt_df.follower_cnt*100)/total_users, 2)).drop(\"follower_cnt\")\n",
    "famous_perc_df.show()\n",
    "\n",
    "#---------------------------- Pandas ----------------------------------------------------------\n",
    "import pandas as pd\n",
    "famous_df_columns = [\"user_id\", \"follower_id\"]\n",
    "famous_data = [(1, 2), (1, 3), (2, 4), (5, 1), (5, 3), \n",
    "(11, 7), (12, 8), (13, 5), (13, 10), \n",
    "(14, 12), (14, 3), (15, 14), (15, 13)]\n",
    "\n",
    "famous_df = pd.DataFrame(data = famous_data, columns = famous_df_columns)\n",
    "df1 = famous_df[['user_id']].rename(columns = {'user_id': 'user'})\n",
    "df2 = famous_df[['follower_id']].rename(columns = {'follower_id': 'user'})\n",
    "users_df = pd.concat([df1, df2])[['user']].drop_duplicates()\n",
    "total_user_count = users_df.shape[0]\n",
    "follower_cnt_df = famous_df.groupby('user_id')['user_id'].count().reset_index(name = 'follower_cnt')\n",
    "follower_cnt_df['famous_perc'] = ((follower_cnt_df.follower_cnt * 100)/total_user_count).round(2)\n",
    "famous_perc_df = follower_cnt_df.drop(columns = ['follower_cnt'])\n",
    "famous_perc_df\n"
   ]
  },
  {
   "cell_type": "markdown",
   "metadata": {
    "application/vnd.databricks.v1+cell": {
     "cellMetadata": {},
     "inputWidgets": {},
     "nuid": "900e62ba-408e-411e-a7a5-8dfe91ee0342",
     "showTitle": false,
     "tableResultSettingsMap": {},
     "title": ""
    }
   },
   "source": [
    "\n",
    "***2. Given a table 'sf_transactions' of purchases by date, calculate the month-over-month percentage change in revenue. The output should include the year-month date (YYYY-MM) and percentage change, rounded to the 2nd decimal point, and sorted from the beginning of the year to the end of the year. The percentage change column will be populated from the 2nd month forward and calculated as ((this month’s revenue — last month’s revenue) / last month’s revenue)100***\n"
   ]
  },
  {
   "cell_type": "code",
   "execution_count": 0,
   "metadata": {
    "application/vnd.databricks.v1+cell": {
     "cellMetadata": {
      "byteLimit": 2048000,
      "rowLimit": 10000
     },
     "inputWidgets": {},
     "nuid": "4667b3ff-91fe-4dab-a986-68005cdd8232",
     "showTitle": false,
     "tableResultSettingsMap": {},
     "title": ""
    }
   },
   "outputs": [],
   "source": [
    "\n",
    "#------PySpark------------------------------------------------------------------------------------------\n",
    "sf_transactions_columns = ['id', 'created_at', 'value', 'purchased_id']\n",
    "sf_transactions_data = [(1, '2019-01-01 00:00:00',  172692, 43), (2,'2019-01-05 00:00:00',  177194, 36),(3, '2019-01-09 00:00:00',  109513, 30),(4, '2019-01-13 00:00:00',  164911, 30),(5, '2019-01-17 00:00:00',  198872, 39), (6, '2019-01-21 00:00:00',  184853, 31),(7, '2019-01-25 00:00:00',  186817, 26), (8, '2019-01-29 00:00:00',  137784, 22),(9, '2019-02-02 00:00:00',  140032, 25), (10, '2019-02-06 00:00:00', 116948, 43), (11, '2019-02-10 00:00:00', 162515, 25), (12, '2019-02-14 00:00:00', 114256, 12), (13, '2019-02-18 00:00:00', 197465, 48), (14, '2019-02-22 00:00:00', 120741, 20), (15, '2019-02-26 00:00:00', 100074, 49), (16, '2019-03-02 00:00:00', 157548, 19), (17, '2019-03-06 00:00:00', 105506, 16), (18, '2019-03-10 00:00:00', 189351, 46), (19, '2019-03-14 00:00:00', 191231, 29), (20, '2019-03-18 00:00:00', 120575, 44), (21, '2019-03-22 00:00:00', 151688, 47), (22, '2019-03-26 00:00:00', 102327, 18), (23, '2019-03-30 00:00:00', 156147, 25)]\n",
    "\n",
    "from pyspark.sql.functions import cast, date_format\n",
    "sf_transactions_df = spark.createDataFrame(data=sf_transactions_data, schema=sf_transactions_columns)\n",
    "sf_transactions_df = sf_transactions_df.withColumn(\"created_at\", sf_transactions_df.created_at.cast(\"timestamp\")).withColumn('year_month', date_format('created_at', 'yyyy-MM'))"
   ]
  },
  {
   "cell_type": "code",
   "execution_count": 0,
   "metadata": {
    "application/vnd.databricks.v1+cell": {
     "cellMetadata": {
      "byteLimit": 2048000,
      "rowLimit": 10000
     },
     "inputWidgets": {},
     "nuid": "b177ba98-d981-421e-ab99-bbb1c29d59c9",
     "showTitle": false,
     "tableResultSettingsMap": {},
     "title": ""
    }
   },
   "outputs": [
    {
     "output_type": "stream",
     "name": "stdout",
     "output_type": "stream",
     "text": [
      "+----------+-----------+--------------+-----------+\n|year_month|total_value|previous_value|perc_change|\n+----------+-----------+--------------+-----------+\n|   2019-01|    1332636|          null|       null|\n|   2019-02|     952031|       1332636|     -28.56|\n|   2019-03|    1174373|        952031|      23.35|\n+----------+-----------+--------------+-----------+\n\n"
     ]
    }
   ],
   "source": [
    "from pyspark.sql.functions import sum, lead, lag, round\n",
    "from pyspark.sql.window import Window\n",
    "monthly_transations_df = sf_transactions_df.groupBy('year_month').agg(sum('value').alias('total_value'))\n",
    "windowSpec = Window.orderBy('year_month')\n",
    "monthly_transations_df = monthly_transations_df.withColumn('previous_value', lag('total_value', 1).over(windowSpec))\n",
    "perc_change_df = monthly_transations_df.withColumn('perc_change', round((((col('total_value')-col('previous_value'))*100)/col('previous_value')),2))\n",
    "perc_change_df.show()"
   ]
  },
  {
   "cell_type": "code",
   "execution_count": 0,
   "metadata": {
    "application/vnd.databricks.v1+cell": {
     "cellMetadata": {
      "byteLimit": 2048000,
      "rowLimit": 10000
     },
     "inputWidgets": {},
     "nuid": "3fb44784-0ce4-47e0-a27e-27b1922c2673",
     "showTitle": false,
     "tableResultSettingsMap": {},
     "title": ""
    }
   },
   "outputs": [
    {
     "output_type": "display_data",
     "data": {
      "text/html": [
       "<div>\n",
       "<style scoped>\n",
       "    .dataframe tbody tr th:only-of-type {\n",
       "        vertical-align: middle;\n",
       "    }\n",
       "\n",
       "    .dataframe tbody tr th {\n",
       "        vertical-align: top;\n",
       "    }\n",
       "\n",
       "    .dataframe thead th {\n",
       "        text-align: right;\n",
       "    }\n",
       "</style>\n",
       "<table border=\"1\" class=\"dataframe\">\n",
       "  <thead>\n",
       "    <tr style=\"text-align: right;\">\n",
       "      <th></th>\n",
       "      <th>year_month</th>\n",
       "      <th>value</th>\n",
       "      <th>previous_value</th>\n",
       "      <th>mom_perc_change</th>\n",
       "    </tr>\n",
       "  </thead>\n",
       "  <tbody>\n",
       "    <tr>\n",
       "      <th>0</th>\n",
       "      <td>2019-01</td>\n",
       "      <td>1332636</td>\n",
       "      <td>NaN</td>\n",
       "      <td>NaN</td>\n",
       "    </tr>\n",
       "    <tr>\n",
       "      <th>1</th>\n",
       "      <td>2019-02</td>\n",
       "      <td>952031</td>\n",
       "      <td>1332636.0</td>\n",
       "      <td>-28.56</td>\n",
       "    </tr>\n",
       "    <tr>\n",
       "      <th>2</th>\n",
       "      <td>2019-03</td>\n",
       "      <td>1174373</td>\n",
       "      <td>952031.0</td>\n",
       "      <td>23.35</td>\n",
       "    </tr>\n",
       "  </tbody>\n",
       "</table>\n",
       "</div>"
      ]
     },
     "metadata": {
      "application/vnd.databricks.v1+output": {
       "addedWidgets": {},
       "arguments": {},
       "data": "<div>\n<style scoped>\n    .dataframe tbody tr th:only-of-type {\n        vertical-align: middle;\n    }\n\n    .dataframe tbody tr th {\n        vertical-align: top;\n    }\n\n    .dataframe thead th {\n        text-align: right;\n    }\n</style>\n<table border=\"1\" class=\"dataframe\">\n  <thead>\n    <tr style=\"text-align: right;\">\n      <th></th>\n      <th>year_month</th>\n      <th>value</th>\n      <th>previous_value</th>\n      <th>mom_perc_change</th>\n    </tr>\n  </thead>\n  <tbody>\n    <tr>\n      <th>0</th>\n      <td>2019-01</td>\n      <td>1332636</td>\n      <td>NaN</td>\n      <td>NaN</td>\n    </tr>\n    <tr>\n      <th>1</th>\n      <td>2019-02</td>\n      <td>952031</td>\n      <td>1332636.0</td>\n      <td>-28.56</td>\n    </tr>\n    <tr>\n      <th>2</th>\n      <td>2019-03</td>\n      <td>1174373</td>\n      <td>952031.0</td>\n      <td>23.35</td>\n    </tr>\n  </tbody>\n</table>\n</div>",
       "datasetInfos": [],
       "metadata": {},
       "removedWidgets": [],
       "textData": null,
       "type": "htmlSandbox"
      }
     },
     "output_type": "display_data"
    }
   ],
   "source": [
    "#------Pandas------------------------------------------------------------------------------------------\n",
    "import pandas as pd\n",
    "\n",
    "sf_transactions_columns = ['id', 'created_at', 'value', 'purchased_id']\n",
    "sf_transactions_data = [(1, '2019-01-01 00:00:00',  172692, 43), (2,'2019-01-05 00:00:00',  177194, 36),(3, '2019-01-09 00:00:00',  109513, 30),(4, '2019-01-13 00:00:00',  164911, 30),(5, '2019-01-17 00:00:00',  198872, 39), (6, '2019-01-21 00:00:00',  184853, 31),(7, '2019-01-25 00:00:00',  186817, 26), (8, '2019-01-29 00:00:00',  137784, 22),(9, '2019-02-02 00:00:00',  140032, 25), (10, '2019-02-06 00:00:00', 116948, 43), (11, '2019-02-10 00:00:00', 162515, 25), (12, '2019-02-14 00:00:00', 114256, 12), (13, '2019-02-18 00:00:00', 197465, 48), (14, '2019-02-22 00:00:00', 120741, 20), (15, '2019-02-26 00:00:00', 100074, 49), (16, '2019-03-02 00:00:00', 157548, 19), (17, '2019-03-06 00:00:00', 105506, 16), (18, '2019-03-10 00:00:00', 189351, 46), (19, '2019-03-14 00:00:00', 191231, 29), (20, '2019-03-18 00:00:00', 120575, 44), (21, '2019-03-22 00:00:00', 151688, 47), (22, '2019-03-26 00:00:00', 102327, 18), (23, '2019-03-30 00:00:00', 156147, 25)]\n",
    "\n",
    "pd_sf_transactions_df = pd.DataFrame(data = sf_transactions_data, columns = sf_transactions_columns)\n",
    "pd_sf_transactions_df['created_at'] = pd.to_datetime(pd_sf_transactions_df.created_at)\n",
    "pd_sf_transactions_df['year_month'] = pd_sf_transactions_df['created_at'].dt.to_period('M')\n",
    "pd_month_transactions_df = pd_sf_transactions_df.groupby('year_month')['value'].sum().reset_index()\n",
    "pd_month_transactions_df['previous_value'] = pd_month_transactions_df['value'].shift(1)\n",
    "pd_month_transactions_df['mom_perc_change'] = round((((pd_month_transactions_df.value - pd_month_transactions_df.previous_value)*100)/pd_month_transactions_df.previous_value),2)\n",
    "pd_month_transactions_df.head()\n"
   ]
  },
  {
   "cell_type": "code",
   "execution_count": 0,
   "metadata": {
    "application/vnd.databricks.v1+cell": {
     "cellMetadata": {
      "byteLimit": 2048000,
      "rowLimit": 10000
     },
     "inputWidgets": {},
     "nuid": "1b30e94b-2882-4b59-a560-8e82a99463e3",
     "showTitle": false,
     "tableResultSettingsMap": {},
     "title": ""
    }
   },
   "outputs": [
    {
     "output_type": "stream",
     "name": "stdout",
     "output_type": "stream",
     "text": [
      "Out[17]: True"
     ]
    }
   ],
   "source": [
    "dbutils.fs.rm('dbfs:/user/hive/warehouse/sf_transactions', True)"
   ]
  },
  {
   "cell_type": "code",
   "execution_count": 0,
   "metadata": {
    "application/vnd.databricks.v1+cell": {
     "cellMetadata": {
      "byteLimit": 2048000,
      "implicitDf": true,
      "rowLimit": 10000
     },
     "collapsed": true,
     "inputWidgets": {},
     "nuid": "d3da65ea-04ae-481d-af01-e5503914f76b",
     "showTitle": false,
     "tableResultSettingsMap": {},
     "title": ""
    }
   },
   "outputs": [
    {
     "output_type": "display_data",
     "data": {
      "text/html": [
       "<style scoped>\n",
       "  .table-result-container {\n",
       "    max-height: 300px;\n",
       "    overflow: auto;\n",
       "  }\n",
       "  table, th, td {\n",
       "    border: 1px solid black;\n",
       "    border-collapse: collapse;\n",
       "  }\n",
       "  th, td {\n",
       "    padding: 5px;\n",
       "  }\n",
       "  th {\n",
       "    text-align: left;\n",
       "  }\n",
       "</style><div class='table-result-container'><table class='table-result'><thead style='background-color: white'><tr><th>num_affected_rows</th><th>num_inserted_rows</th></tr></thead><tbody><tr><td>23</td><td>23</td></tr></tbody></table></div>"
      ]
     },
     "metadata": {
      "application/vnd.databricks.v1+output": {
       "addedWidgets": {},
       "aggData": [],
       "aggError": "",
       "aggOverflow": false,
       "aggSchema": [],
       "aggSeriesLimitReached": false,
       "aggType": "",
       "arguments": {},
       "columnCustomDisplayInfos": {},
       "data": [
        [
         23,
         23
        ]
       ],
       "datasetInfos": [],
       "dbfsResultPath": null,
       "isJsonSchema": true,
       "metadata": {},
       "overflow": false,
       "plotOptions": {
        "customPlotOptions": {},
        "displayType": "table",
        "pivotAggregation": null,
        "pivotColumns": null,
        "xColumns": null,
        "yColumns": null
       },
       "removedWidgets": [],
       "schema": [
        {
         "metadata": "{}",
         "name": "num_affected_rows",
         "type": "\"long\""
        },
        {
         "metadata": "{}",
         "name": "num_inserted_rows",
         "type": "\"long\""
        }
       ],
       "type": "table"
      }
     },
     "output_type": "display_data"
    }
   ],
   "source": [
    "%sql\n",
    "DROP TABLE IF EXISTS sf_transactions;\n",
    "CREATE TABLE sf_transactions(id INT, created_at TIMESTAMP, value INT, purchase_id INT);\n",
    "\n",
    "INSERT INTO sf_transactions VALUES\n",
    "(1, '2019-01-01 00:00:00',  172692, 43), (2,'2019-01-05 00:00:00',  177194, 36),(3, '2019-01-09 00:00:00',  109513, 30),(4, '2019-01-13 00:00:00',  164911, 30),(5, '2019-01-17 00:00:00',  198872, 39), (6, '2019-01-21 00:00:00',  184853, 31),(7, '2019-01-25 00:00:00',  186817, 26), (8, '2019-01-29 00:00:00',  137784, 22),(9, '2019-02-02 00:00:00',  140032, 25), (10, '2019-02-06 00:00:00', 116948, 43), (11, '2019-02-10 00:00:00', 162515, 25), (12, '2019-02-14 00:00:00', 114256, 12), (13, '2019-02-18 00:00:00', 197465, 48), (14, '2019-02-22 00:00:00', 120741, 20), (15, '2019-02-26 00:00:00', 100074, 49), (16, '2019-03-02 00:00:00', 157548, 19), (17, '2019-03-06 00:00:00', 105506, 16), (18, '2019-03-10 00:00:00', 189351, 46), (19, '2019-03-14 00:00:00', 191231, 29), (20, '2019-03-18 00:00:00', 120575, 44), (21, '2019-03-22 00:00:00', 151688, 47), (22, '2019-03-26 00:00:00', 102327, 18), (23, '2019-03-30 00:00:00', 156147, 25);"
   ]
  },
  {
   "cell_type": "code",
   "execution_count": 0,
   "metadata": {
    "application/vnd.databricks.v1+cell": {
     "cellMetadata": {
      "byteLimit": 2048000,
      "implicitDf": true,
      "rowLimit": 10000
     },
     "collapsed": true,
     "inputWidgets": {},
     "nuid": "dca14cf8-3e84-4608-a602-e6ea4e6fbd2c",
     "showTitle": false,
     "tableResultSettingsMap": {},
     "title": ""
    }
   },
   "outputs": [
    {
     "output_type": "display_data",
     "data": {
      "text/html": [
       "<style scoped>\n",
       "  .table-result-container {\n",
       "    max-height: 300px;\n",
       "    overflow: auto;\n",
       "  }\n",
       "  table, th, td {\n",
       "    border: 1px solid black;\n",
       "    border-collapse: collapse;\n",
       "  }\n",
       "  th, td {\n",
       "    padding: 5px;\n",
       "  }\n",
       "  th {\n",
       "    text-align: left;\n",
       "  }\n",
       "</style><div class='table-result-container'><table class='table-result'><thead style='background-color: white'><tr><th>year_month</th><th>total_revenue</th><th>perc_change</th></tr></thead><tbody><tr><td>2019-01</td><td>1332636</td><td>null</td></tr><tr><td>2019-02</td><td>952031</td><td>-28.56</td></tr><tr><td>2019-03</td><td>1174373</td><td>23.35</td></tr></tbody></table></div>"
      ]
     },
     "metadata": {
      "application/vnd.databricks.v1+output": {
       "addedWidgets": {},
       "aggData": [],
       "aggError": "",
       "aggOverflow": false,
       "aggSchema": [],
       "aggSeriesLimitReached": false,
       "aggType": "",
       "arguments": {},
       "columnCustomDisplayInfos": {},
       "data": [
        [
         "2019-01",
         1332636,
         null
        ],
        [
         "2019-02",
         952031,
         -28.56
        ],
        [
         "2019-03",
         1174373,
         23.35
        ]
       ],
       "datasetInfos": [],
       "dbfsResultPath": null,
       "isJsonSchema": true,
       "metadata": {},
       "overflow": false,
       "plotOptions": {
        "customPlotOptions": {},
        "displayType": "table",
        "pivotAggregation": null,
        "pivotColumns": null,
        "xColumns": null,
        "yColumns": null
       },
       "removedWidgets": [],
       "schema": [
        {
         "metadata": "{}",
         "name": "year_month",
         "type": "\"string\""
        },
        {
         "metadata": "{}",
         "name": "total_revenue",
         "type": "\"long\""
        },
        {
         "metadata": "{}",
         "name": "perc_change",
         "type": "\"double\""
        }
       ],
       "type": "table"
      }
     },
     "output_type": "display_data"
    }
   ],
   "source": [
    "%sql\n",
    "WITH MonthlyRevenue AS (\n",
    "  SELECT date_format(created_at, 'yyyy-MM') as year_month,\n",
    "  sum(value) as total_revenue\n",
    "  FROM sf_transactions\n",
    "  GROUP BY date_format(created_at, 'yyyy-MM')\n",
    "),\n",
    "RevenueChange AS (\n",
    "  SELECT year_month,\n",
    "  total_revenue,\n",
    "  LAG(total_revenue) OVER(ORDER BY year_month) as previous_revenue\n",
    "  FROM MonthlyRevenue\n",
    ")\n",
    "SELECT \n",
    "    year_month,\n",
    "    total_revenue,\n",
    "    ROUND(\n",
    "      CASE When previous_revenue IS NULL then NULL\n",
    "      ELSE ((total_revenue-previous_revenue)/CAST(previous_revenue AS FLOAT))*100 END, 2\n",
    "    ) as perc_change\n",
    "    FROM RevenueChange\n",
    "    ORDER BY year_month"
   ]
  },
  {
   "cell_type": "code",
   "execution_count": 0,
   "metadata": {
    "application/vnd.databricks.v1+cell": {
     "cellMetadata": {
      "byteLimit": 2048000,
      "implicitDf": true,
      "rowLimit": 10000
     },
     "inputWidgets": {},
     "nuid": "7be40938-73d4-4624-ad94-30814b641256",
     "showTitle": false,
     "tableResultSettingsMap": {},
     "title": ""
    }
   },
   "outputs": [
    {
     "output_type": "display_data",
     "data": {
      "text/html": [
       "<style scoped>\n",
       "  .table-result-container {\n",
       "    max-height: 300px;\n",
       "    overflow: auto;\n",
       "  }\n",
       "  table, th, td {\n",
       "    border: 1px solid black;\n",
       "    border-collapse: collapse;\n",
       "  }\n",
       "  th, td {\n",
       "    padding: 5px;\n",
       "  }\n",
       "  th {\n",
       "    text-align: left;\n",
       "  }\n",
       "</style><div class='table-result-container'><table class='table-result'><thead style='background-color: white'><tr><th>year_month</th><th>total_revenue</th><th>perc_change</th></tr></thead><tbody><tr><td>2019-01</td><td>1332636</td><td>null</td></tr><tr><td>2019-02</td><td>952031</td><td>-28.56</td></tr><tr><td>2019-03</td><td>1174373</td><td>23.35</td></tr></tbody></table></div>"
      ]
     },
     "metadata": {
      "application/vnd.databricks.v1+output": {
       "addedWidgets": {},
       "aggData": [],
       "aggError": "",
       "aggOverflow": false,
       "aggSchema": [],
       "aggSeriesLimitReached": false,
       "aggType": "",
       "arguments": {},
       "columnCustomDisplayInfos": {},
       "data": [
        [
         "2019-01",
         1332636,
         null
        ],
        [
         "2019-02",
         952031,
         -28.56
        ],
        [
         "2019-03",
         1174373,
         23.35
        ]
       ],
       "datasetInfos": [],
       "dbfsResultPath": null,
       "isJsonSchema": true,
       "metadata": {},
       "overflow": false,
       "plotOptions": {
        "customPlotOptions": {},
        "displayType": "table",
        "pivotAggregation": null,
        "pivotColumns": null,
        "xColumns": null,
        "yColumns": null
       },
       "removedWidgets": [],
       "schema": [
        {
         "metadata": "{}",
         "name": "year_month",
         "type": "\"string\""
        },
        {
         "metadata": "{}",
         "name": "total_revenue",
         "type": "\"long\""
        },
        {
         "metadata": "{}",
         "name": "perc_change",
         "type": "\"double\""
        }
       ],
       "type": "table"
      }
     },
     "output_type": "display_data"
    }
   ],
   "source": [
    "%sql\n",
    "--- With out CTE\n",
    "SELECT year_month, total_revenue,  round((total_revenue-previous_revenue)*100/previous_revenue, 2) as perc_change FROM (\n",
    "SELECT year_month, total_revenue, lag(total_revenue) over(order by year_month) as previous_revenue FROM (\n",
    "SELECT date_format(created_at, 'yyyy-MM') as year_month, sum(value) as total_revenue FROM sf_transactions group by date_format(created_at, 'yyyy-MM')  order by date_format(created_at, 'yyyy-MM')\n",
    ")\n",
    ")\n"
   ]
  },
  {
   "cell_type": "markdown",
   "metadata": {
    "application/vnd.databricks.v1+cell": {
     "cellMetadata": {},
     "inputWidgets": {},
     "nuid": "0734a453-a42d-484e-947f-2501338bb17b",
     "showTitle": false,
     "tableResultSettingsMap": {},
     "title": ""
    }
   },
   "source": [
    "**3. You are analyzing a social network dataset at Google. Your task is to find mutual friends between two users, Karl and Hans. There is only one user named Karl and one named Hans in the dataset.The output should contain 'user_id' and 'user_name' columns.**\n",
    "\n",
    "Google\n"
   ]
  },
  {
   "cell_type": "code",
   "execution_count": 0,
   "metadata": {
    "application/vnd.databricks.v1+cell": {
     "cellMetadata": {
      "byteLimit": 2048000,
      "rowLimit": 10000
     },
     "inputWidgets": {},
     "nuid": "01784cf2-9dca-4a7a-adf0-388dd83f7e56",
     "showTitle": false,
     "tableResultSettingsMap": {},
     "title": ""
    }
   },
   "outputs": [
    {
     "output_type": "stream",
     "name": "stdout",
     "output_type": "stream",
     "text": [
      "Out[16]: False"
     ]
    }
   ],
   "source": [
    "dbutils.fs.rm('dbfs:/user/hive/warehouse/gusers', True)\n",
    "dbutils.fs.rm('dbfs:/user/hive/warehouse/friends', True)"
   ]
  },
  {
   "cell_type": "code",
   "execution_count": 0,
   "metadata": {
    "application/vnd.databricks.v1+cell": {
     "cellMetadata": {
      "byteLimit": 2048000,
      "implicitDf": true,
      "rowLimit": 10000
     },
     "inputWidgets": {},
     "nuid": "f436670d-1139-49e6-b3e0-fc82975f3b88",
     "showTitle": false,
     "tableResultSettingsMap": {},
     "title": ""
    }
   },
   "outputs": [
    {
     "output_type": "display_data",
     "data": {
      "text/html": [
       "<style scoped>\n",
       "  .table-result-container {\n",
       "    max-height: 300px;\n",
       "    overflow: auto;\n",
       "  }\n",
       "  table, th, td {\n",
       "    border: 1px solid black;\n",
       "    border-collapse: collapse;\n",
       "  }\n",
       "  th, td {\n",
       "    padding: 5px;\n",
       "  }\n",
       "  th {\n",
       "    text-align: left;\n",
       "  }\n",
       "</style><div class='table-result-container'><table class='table-result'><thead style='background-color: white'><tr><th>num_affected_rows</th><th>num_inserted_rows</th></tr></thead><tbody><tr><td>15</td><td>15</td></tr></tbody></table></div>"
      ]
     },
     "metadata": {
      "application/vnd.databricks.v1+output": {
       "addedWidgets": {},
       "aggData": [],
       "aggError": "",
       "aggOverflow": false,
       "aggSchema": [],
       "aggSeriesLimitReached": false,
       "aggType": "",
       "arguments": {},
       "columnCustomDisplayInfos": {},
       "data": [
        [
         15,
         15
        ]
       ],
       "datasetInfos": [],
       "dbfsResultPath": null,
       "isJsonSchema": true,
       "metadata": {},
       "overflow": false,
       "plotOptions": {
        "customPlotOptions": {},
        "displayType": "table",
        "pivotAggregation": null,
        "pivotColumns": null,
        "xColumns": null,
        "yColumns": null
       },
       "removedWidgets": [],
       "schema": [
        {
         "metadata": "{}",
         "name": "num_affected_rows",
         "type": "\"long\""
        },
        {
         "metadata": "{}",
         "name": "num_inserted_rows",
         "type": "\"long\""
        }
       ],
       "type": "table"
      }
     },
     "output_type": "display_data"
    }
   ],
   "source": [
    "%sql\n",
    "CREATE TABLE IF NOT EXISTS gusers (user_id INT, user_name varchar(30)) ;\n",
    "INSERT INTO gusers VALUES (1, 'Karl'), (2, 'Hans'), (3, 'Emma'), (4, 'Emma'), (5, 'Mike'), (6, 'Lucas'), (7, 'Sarah'), (8, 'Lucas'), (9, 'Anna'), (10, 'John');\n",
    "\n",
    "CREATE TABLE IF NOT EXISTS friends(user_id INT, friend_id INT);\n",
    "INSERT INTO friends VALUES (1,3),(1,5),(2,3),(2,4),(3,1),(3,2),(3,6),(4,7),(5,8),(6,9),(7,10),(8,6),(9,10),(10,7),(10,9);\n"
   ]
  },
  {
   "cell_type": "code",
   "execution_count": 0,
   "metadata": {
    "application/vnd.databricks.v1+cell": {
     "cellMetadata": {
      "byteLimit": 2048000,
      "implicitDf": true,
      "rowLimit": 10000
     },
     "collapsed": true,
     "inputWidgets": {},
     "nuid": "15b83454-4b4a-4901-a744-702ae0342c35",
     "showTitle": false,
     "tableResultSettingsMap": {},
     "title": ""
    }
   },
   "outputs": [
    {
     "output_type": "display_data",
     "data": {
      "text/html": [
       "<style scoped>\n",
       "  .table-result-container {\n",
       "    max-height: 300px;\n",
       "    overflow: auto;\n",
       "  }\n",
       "  table, th, td {\n",
       "    border: 1px solid black;\n",
       "    border-collapse: collapse;\n",
       "  }\n",
       "  th, td {\n",
       "    padding: 5px;\n",
       "  }\n",
       "  th {\n",
       "    text-align: left;\n",
       "  }\n",
       "</style><div class='table-result-container'><table class='table-result'><thead style='background-color: white'><tr><th>user_id</th><th>user_name</th></tr></thead><tbody><tr><td>3</td><td>Emma</td></tr></tbody></table></div>"
      ]
     },
     "metadata": {
      "application/vnd.databricks.v1+output": {
       "addedWidgets": {},
       "aggData": [],
       "aggError": "",
       "aggOverflow": false,
       "aggSchema": [],
       "aggSeriesLimitReached": false,
       "aggType": "",
       "arguments": {},
       "columnCustomDisplayInfos": {},
       "data": [
        [
         3,
         "Emma"
        ]
       ],
       "datasetInfos": [],
       "dbfsResultPath": null,
       "isJsonSchema": true,
       "metadata": {},
       "overflow": false,
       "plotOptions": {
        "customPlotOptions": {},
        "displayType": "table",
        "pivotAggregation": null,
        "pivotColumns": null,
        "xColumns": null,
        "yColumns": null
       },
       "removedWidgets": [],
       "schema": [
        {
         "metadata": "{}",
         "name": "user_id",
         "type": "\"integer\""
        },
        {
         "metadata": "{\"__CHAR_VARCHAR_TYPE_STRING\":\"varchar(30)\"}",
         "name": "user_name",
         "type": "\"string\""
        }
       ],
       "type": "table"
      }
     },
     "output_type": "display_data"
    }
   ],
   "source": [
    "%sql\n",
    "WITH hans_friends AS (\n",
    "  SELECT f.friend_id as friend FROM gusers u JOIN friends f ON u.user_id == f.user_id AND u.user_name = 'Hans'\n",
    "),\n",
    "karl_friends AS (\n",
    "  SELECT f.friend_id as friend FROM gusers u JOIN friends f ON u.user_id == f.user_id AND u.user_name = 'Karl'\n",
    ")\n",
    "SELECT u.user_id, u.user_name FROM gusers u JOIN hans_friends hf ON u.user_id = hf.friend \n",
    "JOIN karl_friends kf ON u.user_id = kf.friend"
   ]
  },
  {
   "cell_type": "code",
   "execution_count": 0,
   "metadata": {
    "application/vnd.databricks.v1+cell": {
     "cellMetadata": {
      "byteLimit": 2048000,
      "rowLimit": 10000
     },
     "inputWidgets": {},
     "nuid": "f8f786ce-5433-4cfa-805a-cc6945573b88",
     "showTitle": false,
     "tableResultSettingsMap": {},
     "title": ""
    }
   },
   "outputs": [],
   "source": [
    "#------PySpark------------------------------------------------------------------------------------------\n",
    "gusers_data = [(1, 'Karl'), (2, 'Hans'), (3, 'Emma'), (4, 'Emma'), (5, 'Mike'), (6, 'Lucas'), (7, 'Sarah'), (8, 'Lucas'), (9, 'Anna'), (10, 'John')]\n",
    "friends_data = [(1,3),(1,5),(2,3),(2,4),(3,1),(3,2),(3,6),(4,7),(5,8),(6,9),(7,10),(8,6),(9,10),(10,7),(10,9)]\n",
    "gusers_columns = [\"user_id\", \"user_name\"]\n",
    "friends_columns = [\"user_id\", \"friend_id\"]\n",
    "\n",
    "gusers_df = spark.createDataFrame(data=gusers_data, schema=gusers_columns)\n",
    "friends_df = spark.createDataFrame(data=friends_data, schema=friends_columns)\n",
    "\n"
   ]
  },
  {
   "cell_type": "code",
   "execution_count": 0,
   "metadata": {
    "application/vnd.databricks.v1+cell": {
     "cellMetadata": {
      "byteLimit": 2048000,
      "rowLimit": 10000
     },
     "inputWidgets": {},
     "nuid": "8778d6c2-fc81-4af4-992e-86d6742d4ccb",
     "showTitle": false,
     "tableResultSettingsMap": {},
     "title": ""
    }
   },
   "outputs": [
    {
     "output_type": "stream",
     "name": "stdout",
     "output_type": "stream",
     "text": [
      "+-------+---------+---------+\n|user_id|user_name|friend_id|\n+-------+---------+---------+\n|      2|     Hans|        3|\n|      2|     Hans|        4|\n+-------+---------+---------+\n\n+-------+---------+---------+\n|user_id|user_name|friend_id|\n+-------+---------+---------+\n|      1|     Karl|        3|\n|      1|     Karl|        5|\n+-------+---------+---------+\n\n"
     ]
    }
   ],
   "source": [
    "hans_friends_df = gusers_df.join(friends_df, on=\"user_id\", how=\"inner\").filter(gusers_df.user_name == 'Hans')\n",
    "Karl_friends_df = gusers_df.join(friends_df, on=\"user_id\", how=\"inner\").filter(gusers_df.user_name == 'Karl')\n",
    "\n",
    "hans_friends_df.show()\n",
    "Karl_friends_df.show()"
   ]
  },
  {
   "cell_type": "code",
   "execution_count": 0,
   "metadata": {
    "application/vnd.databricks.v1+cell": {
     "cellMetadata": {
      "byteLimit": 2048000,
      "rowLimit": 10000
     },
     "inputWidgets": {},
     "nuid": "a556d532-cf13-43db-9508-d7b64ff0d617",
     "showTitle": false,
     "tableResultSettingsMap": {},
     "title": ""
    }
   },
   "outputs": [
    {
     "output_type": "stream",
     "name": "stdout",
     "output_type": "stream",
     "text": [
      "+----+----+\n|user|u_id|\n+----+----+\n|Emma|   3|\n+----+----+\n\n"
     ]
    }
   ],
   "source": [
    "from pyspark.sql.functions import col\n",
    "g =  gusers_df.select(col('user_name').alias('user'), col(\"user_id\").alias('u_id'))\n",
    "common_friends_df = g.join(hans_friends_df, hans_friends_df.friend_id == g.u_id, \"inner\")\\\n",
    "    .join(Karl_friends_df, Karl_friends_df.friend_id == g.u_id, \"inner\")\n",
    "common_friends_df.select('user', 'u_id').show()"
   ]
  },
  {
   "cell_type": "code",
   "execution_count": 0,
   "metadata": {
    "application/vnd.databricks.v1+cell": {
     "cellMetadata": {
      "byteLimit": 2048000,
      "rowLimit": 10000
     },
     "inputWidgets": {},
     "nuid": "b3136ee8-dbc1-4296-8804-3faf6323d33f",
     "showTitle": false,
     "tableResultSettingsMap": {},
     "title": ""
    }
   },
   "outputs": [
    {
     "output_type": "display_data",
     "data": {
      "text/html": [
       "<div>\n",
       "<style scoped>\n",
       "    .dataframe tbody tr th:only-of-type {\n",
       "        vertical-align: middle;\n",
       "    }\n",
       "\n",
       "    .dataframe tbody tr th {\n",
       "        vertical-align: top;\n",
       "    }\n",
       "\n",
       "    .dataframe thead th {\n",
       "        text-align: right;\n",
       "    }\n",
       "</style>\n",
       "<table border=\"1\" class=\"dataframe\">\n",
       "  <thead>\n",
       "    <tr style=\"text-align: right;\">\n",
       "      <th></th>\n",
       "      <th>user_id</th>\n",
       "      <th>user_name</th>\n",
       "    </tr>\n",
       "  </thead>\n",
       "  <tbody>\n",
       "    <tr>\n",
       "      <th>2</th>\n",
       "      <td>3</td>\n",
       "      <td>Emma</td>\n",
       "    </tr>\n",
       "  </tbody>\n",
       "</table>\n",
       "</div>"
      ]
     },
     "metadata": {
      "application/vnd.databricks.v1+output": {
       "addedWidgets": {},
       "arguments": {},
       "data": "<div>\n<style scoped>\n    .dataframe tbody tr th:only-of-type {\n        vertical-align: middle;\n    }\n\n    .dataframe tbody tr th {\n        vertical-align: top;\n    }\n\n    .dataframe thead th {\n        text-align: right;\n    }\n</style>\n<table border=\"1\" class=\"dataframe\">\n  <thead>\n    <tr style=\"text-align: right;\">\n      <th></th>\n      <th>user_id</th>\n      <th>user_name</th>\n    </tr>\n  </thead>\n  <tbody>\n    <tr>\n      <th>2</th>\n      <td>3</td>\n      <td>Emma</td>\n    </tr>\n  </tbody>\n</table>\n</div>",
       "datasetInfos": [],
       "metadata": {},
       "removedWidgets": [],
       "textData": null,
       "type": "htmlSandbox"
      }
     },
     "output_type": "display_data"
    }
   ],
   "source": [
    "#------Pandas------------------------------------------------------------------------------------------\n",
    "import pandas as pd\n",
    "gusers_data = [(1, 'Karl'), (2, 'Hans'), (3, 'Emma'), (4, 'Emma'), (5, 'Mike'), (6, 'Lucas'), (7, 'Sarah'), (8, 'Lucas'), (9, 'Anna'), (10, 'John')]\n",
    "friends_data = [(1,3),(1,5),(2,3),(2,4),(3,1),(3,2),(3,6),(4,7),(5,8),(6,9),(7,10),(8,6),(9,10),(10,7),(10,9)]\n",
    "gusers_columns = [\"user_id\", \"user_name\"]\n",
    "friends_columns = [\"user_id\", \"friend_id\"]\n",
    "\n",
    "pd_gusers_df = pd.DataFrame(\n",
    "                    data=gusers_data,\n",
    "                    columns=gusers_columns\n",
    "                    )\n",
    "\n",
    "pd_friends_df = pd.DataFrame(\n",
    "                    data=friends_data,\n",
    "                    columns=friends_columns\n",
    ")\n",
    "karl_id = pd_gusers_df[pd_gusers_df.user_name == 'Karl']['user_id'].iloc[0]\n",
    "hans_id = pd_gusers_df[pd_gusers_df.user_name == 'Hans']['user_id'].iloc[0]\n",
    "karl_friends = set(pd_friends_df[pd_friends_df.user_id == karl_id]['friend_id'])\n",
    "hans_friends = set(pd_friends_df[pd_friends_df.user_id == hans_id]['friend_id'])\n",
    "common_friends = karl_friends & hans_friends\n",
    "common_friends_df = pd_gusers_df[pd_gusers_df['user_id'].isin(common_friends)]\n",
    "common_friends_df.head()"
   ]
  },
  {
   "cell_type": "markdown",
   "metadata": {
    "application/vnd.databricks.v1+cell": {
     "cellMetadata": {},
     "inputWidgets": {},
     "nuid": "9dd03735-5994-462b-9215-90cc960ec183",
     "showTitle": false,
     "tableResultSettingsMap": {},
     "title": ""
    }
   },
   "source": [
    "**4. Some forecasting methods are extremely simple and surprisingly effective. Naïve forecast is one of them. To create a naïve forecast for \"distance per dollar\" (defined as distance_to_travel/monetary_cost), first sum the \"distance to travel\" and \"monetary cost\" values monthly. This gives the actual value for the current month. For the forecasted value, use the previous month's value. After obtaining both actual and forecasted values, calculate the root mean squared error (RMSE) using the formula RMSE = sqrt(mean(square(actual - forecast))). Report the RMSE rounded to two decimal places.**\n"
   ]
  },
  {
   "cell_type": "code",
   "execution_count": 0,
   "metadata": {
    "application/vnd.databricks.v1+cell": {
     "cellMetadata": {
      "byteLimit": 2048000,
      "rowLimit": 10000
     },
     "inputWidgets": {},
     "nuid": "13378125-11e0-4909-ac1d-cdc5576838ce",
     "showTitle": false,
     "tableResultSettingsMap": {},
     "title": ""
    }
   },
   "outputs": [
    {
     "output_type": "stream",
     "name": "stdout",
     "output_type": "stream",
     "text": [
      "Out[32]: True"
     ]
    }
   ],
   "source": [
    "dbutils.fs.rm('dbfs:/user/hive/warehouse/uber_request_logs', True)"
   ]
  },
  {
   "cell_type": "code",
   "execution_count": 0,
   "metadata": {
    "application/vnd.databricks.v1+cell": {
     "cellMetadata": {
      "byteLimit": 2048000,
      "implicitDf": true,
      "rowLimit": 10000
     },
     "inputWidgets": {},
     "nuid": "6c7beb5e-8d2e-417d-861a-c07ec9d0fc02",
     "showTitle": false,
     "tableResultSettingsMap": {},
     "title": ""
    }
   },
   "outputs": [
    {
     "output_type": "display_data",
     "data": {
      "text/html": [
       "<style scoped>\n",
       "  .table-result-container {\n",
       "    max-height: 300px;\n",
       "    overflow: auto;\n",
       "  }\n",
       "  table, th, td {\n",
       "    border: 1px solid black;\n",
       "    border-collapse: collapse;\n",
       "  }\n",
       "  th, td {\n",
       "    padding: 5px;\n",
       "  }\n",
       "  th {\n",
       "    text-align: left;\n",
       "  }\n",
       "</style><div class='table-result-container'><table class='table-result'><thead style='background-color: white'><tr><th>num_affected_rows</th><th>num_inserted_rows</th></tr></thead><tbody><tr><td>20</td><td>20</td></tr></tbody></table></div>"
      ]
     },
     "metadata": {
      "application/vnd.databricks.v1+output": {
       "addedWidgets": {},
       "aggData": [],
       "aggError": "",
       "aggOverflow": false,
       "aggSchema": [],
       "aggSeriesLimitReached": false,
       "aggType": "",
       "arguments": {},
       "columnCustomDisplayInfos": {},
       "data": [
        [
         20,
         20
        ]
       ],
       "datasetInfos": [],
       "dbfsResultPath": null,
       "isJsonSchema": true,
       "metadata": {},
       "overflow": false,
       "plotOptions": {
        "customPlotOptions": {},
        "displayType": "table",
        "pivotAggregation": null,
        "pivotColumns": null,
        "xColumns": null,
        "yColumns": null
       },
       "removedWidgets": [],
       "schema": [
        {
         "metadata": "{}",
         "name": "num_affected_rows",
         "type": "\"long\""
        },
        {
         "metadata": "{}",
         "name": "num_inserted_rows",
         "type": "\"long\""
        }
       ],
       "type": "table"
      }
     },
     "output_type": "display_data"
    }
   ],
   "source": [
    "%sql\n",
    "CREATE TABLE uber_request_logs(request_id int, request_date Timestamp, request_status varchar(10), distance_to_travel float, monetary_cost float, driver_to_client_distance float);\n",
    "\n",
    "INSERT INTO uber_request_logs VALUES (1,'2020-01-09','success', 70.59, 6.56,14.36), (2,'2020-01-24','success', 93.36, 22.68,19.9), (3,'2020-02-08','fail', 51.24, 11.39,21.32), (4,'2020-02-23','success', 61.58,8.04,44.26), (5,'2020-03-09','success', 25.04,7.19,1.74), (6,'2020-03-24','fail', 45.57, 4.68,24.19), (7,'2020-04-08','success', 24.45,12.69,15.91), (8,'2020-04-23','success', 48.22,11.2,48.82), (9,'2020-05-08','success', 56.63,4.04,16.08), (10,'2020-05-23','fail', 19.03,16.65,11.22), (11,'2020-06-07','fail', 81,6.56,26.6), (12,'2020-06-22','fail', 21.32,8.86,28.57), (13,'2020-07-07','fail', 14.74,17.76,19.33), (14,'2020-07-22','success',66.73,13.68,14.07), (15,'2020-08-06','success',32.98,16.17,25.34), (16,'2020-08-21','success',46.49,1.84,41.9), (17,'2020-09-05','fail', 45.98,12.2,2.46), (18,'2020-09-20','success',3.14,24.8,36.6), (19,'2020-10-05','success',75.33,23.04,29.99), (20,'2020-10-20','success', 53.76,22.94,18.74);"
   ]
  },
  {
   "cell_type": "code",
   "execution_count": 0,
   "metadata": {
    "application/vnd.databricks.v1+cell": {
     "cellMetadata": {
      "byteLimit": 2048000,
      "implicitDf": true,
      "rowLimit": 10000
     },
     "inputWidgets": {},
     "nuid": "bb69140b-81fb-44ef-847d-4bbb0e565278",
     "showTitle": false,
     "tableResultSettingsMap": {},
     "title": ""
    }
   },
   "outputs": [
    {
     "output_type": "display_data",
     "data": {
      "text/html": [
       "<style scoped>\n",
       "  .table-result-container {\n",
       "    max-height: 300px;\n",
       "    overflow: auto;\n",
       "  }\n",
       "  table, th, td {\n",
       "    border: 1px solid black;\n",
       "    border-collapse: collapse;\n",
       "  }\n",
       "  th, td {\n",
       "    padding: 5px;\n",
       "  }\n",
       "  th {\n",
       "    text-align: left;\n",
       "  }\n",
       "</style><div class='table-result-container'><table class='table-result'><thead style='background-color: white'><tr><th>request_id</th><th>request_date</th><th>request_status</th><th>distance_to_travel</th><th>monetary_cost</th><th>driver_to_client_distance</th></tr></thead><tbody><tr><td>1</td><td>2020-01-09T00:00:00.000+0000</td><td>success</td><td>70.59</td><td>6.56</td><td>14.36</td></tr><tr><td>2</td><td>2020-01-24T00:00:00.000+0000</td><td>success</td><td>93.36</td><td>22.68</td><td>19.9</td></tr><tr><td>3</td><td>2020-02-08T00:00:00.000+0000</td><td>fail</td><td>51.24</td><td>11.39</td><td>21.32</td></tr><tr><td>4</td><td>2020-02-23T00:00:00.000+0000</td><td>success</td><td>61.58</td><td>8.04</td><td>44.26</td></tr><tr><td>5</td><td>2020-03-09T00:00:00.000+0000</td><td>success</td><td>25.04</td><td>7.19</td><td>1.74</td></tr><tr><td>6</td><td>2020-03-24T00:00:00.000+0000</td><td>fail</td><td>45.57</td><td>4.68</td><td>24.19</td></tr><tr><td>7</td><td>2020-04-08T00:00:00.000+0000</td><td>success</td><td>24.45</td><td>12.69</td><td>15.91</td></tr><tr><td>8</td><td>2020-04-23T00:00:00.000+0000</td><td>success</td><td>48.22</td><td>11.2</td><td>48.82</td></tr><tr><td>9</td><td>2020-05-08T00:00:00.000+0000</td><td>success</td><td>56.63</td><td>4.04</td><td>16.08</td></tr><tr><td>10</td><td>2020-05-23T00:00:00.000+0000</td><td>fail</td><td>19.03</td><td>16.65</td><td>11.22</td></tr><tr><td>11</td><td>2020-06-07T00:00:00.000+0000</td><td>fail</td><td>81.0</td><td>6.56</td><td>26.6</td></tr><tr><td>12</td><td>2020-06-22T00:00:00.000+0000</td><td>fail</td><td>21.32</td><td>8.86</td><td>28.57</td></tr><tr><td>13</td><td>2020-07-07T00:00:00.000+0000</td><td>fail</td><td>14.74</td><td>17.76</td><td>19.33</td></tr><tr><td>14</td><td>2020-07-22T00:00:00.000+0000</td><td>success</td><td>66.73</td><td>13.68</td><td>14.07</td></tr><tr><td>15</td><td>2020-08-06T00:00:00.000+0000</td><td>success</td><td>32.98</td><td>16.17</td><td>25.34</td></tr><tr><td>16</td><td>2020-08-21T00:00:00.000+0000</td><td>success</td><td>46.49</td><td>1.84</td><td>41.9</td></tr><tr><td>17</td><td>2020-09-05T00:00:00.000+0000</td><td>fail</td><td>45.98</td><td>12.2</td><td>2.46</td></tr><tr><td>18</td><td>2020-09-20T00:00:00.000+0000</td><td>success</td><td>3.14</td><td>24.8</td><td>36.6</td></tr><tr><td>19</td><td>2020-10-05T00:00:00.000+0000</td><td>success</td><td>75.33</td><td>23.04</td><td>29.99</td></tr><tr><td>20</td><td>2020-10-20T00:00:00.000+0000</td><td>success</td><td>53.76</td><td>22.94</td><td>18.74</td></tr></tbody></table></div>"
      ]
     },
     "metadata": {
      "application/vnd.databricks.v1+output": {
       "addedWidgets": {},
       "aggData": [],
       "aggError": "",
       "aggOverflow": false,
       "aggSchema": [],
       "aggSeriesLimitReached": false,
       "aggType": "",
       "arguments": {},
       "columnCustomDisplayInfos": {},
       "data": [
        [
         1,
         "2020-01-09T00:00:00.000+0000",
         "success",
         70.59,
         6.56,
         14.36
        ],
        [
         2,
         "2020-01-24T00:00:00.000+0000",
         "success",
         93.36,
         22.68,
         19.9
        ],
        [
         3,
         "2020-02-08T00:00:00.000+0000",
         "fail",
         51.24,
         11.39,
         21.32
        ],
        [
         4,
         "2020-02-23T00:00:00.000+0000",
         "success",
         61.58,
         8.04,
         44.26
        ],
        [
         5,
         "2020-03-09T00:00:00.000+0000",
         "success",
         25.04,
         7.19,
         1.74
        ],
        [
         6,
         "2020-03-24T00:00:00.000+0000",
         "fail",
         45.57,
         4.68,
         24.19
        ],
        [
         7,
         "2020-04-08T00:00:00.000+0000",
         "success",
         24.45,
         12.69,
         15.91
        ],
        [
         8,
         "2020-04-23T00:00:00.000+0000",
         "success",
         48.22,
         11.2,
         48.82
        ],
        [
         9,
         "2020-05-08T00:00:00.000+0000",
         "success",
         56.63,
         4.04,
         16.08
        ],
        [
         10,
         "2020-05-23T00:00:00.000+0000",
         "fail",
         19.03,
         16.65,
         11.22
        ],
        [
         11,
         "2020-06-07T00:00:00.000+0000",
         "fail",
         81.0,
         6.56,
         26.6
        ],
        [
         12,
         "2020-06-22T00:00:00.000+0000",
         "fail",
         21.32,
         8.86,
         28.57
        ],
        [
         13,
         "2020-07-07T00:00:00.000+0000",
         "fail",
         14.74,
         17.76,
         19.33
        ],
        [
         14,
         "2020-07-22T00:00:00.000+0000",
         "success",
         66.73,
         13.68,
         14.07
        ],
        [
         15,
         "2020-08-06T00:00:00.000+0000",
         "success",
         32.98,
         16.17,
         25.34
        ],
        [
         16,
         "2020-08-21T00:00:00.000+0000",
         "success",
         46.49,
         1.84,
         41.9
        ],
        [
         17,
         "2020-09-05T00:00:00.000+0000",
         "fail",
         45.98,
         12.2,
         2.46
        ],
        [
         18,
         "2020-09-20T00:00:00.000+0000",
         "success",
         3.14,
         24.8,
         36.6
        ],
        [
         19,
         "2020-10-05T00:00:00.000+0000",
         "success",
         75.33,
         23.04,
         29.99
        ],
        [
         20,
         "2020-10-20T00:00:00.000+0000",
         "success",
         53.76,
         22.94,
         18.74
        ]
       ],
       "datasetInfos": [],
       "dbfsResultPath": null,
       "isJsonSchema": true,
       "metadata": {},
       "overflow": false,
       "plotOptions": {
        "customPlotOptions": {},
        "displayType": "table",
        "pivotAggregation": null,
        "pivotColumns": null,
        "xColumns": null,
        "yColumns": null
       },
       "removedWidgets": [],
       "schema": [
        {
         "metadata": "{}",
         "name": "request_id",
         "type": "\"integer\""
        },
        {
         "metadata": "{}",
         "name": "request_date",
         "type": "\"timestamp\""
        },
        {
         "metadata": "{\"__CHAR_VARCHAR_TYPE_STRING\":\"varchar(10)\"}",
         "name": "request_status",
         "type": "\"string\""
        },
        {
         "metadata": "{}",
         "name": "distance_to_travel",
         "type": "\"float\""
        },
        {
         "metadata": "{}",
         "name": "monetary_cost",
         "type": "\"float\""
        },
        {
         "metadata": "{}",
         "name": "driver_to_client_distance",
         "type": "\"float\""
        }
       ],
       "type": "table"
      }
     },
     "output_type": "display_data"
    }
   ],
   "source": [
    "%sql\n",
    "SELECT * FROM uber_request_logs"
   ]
  },
  {
   "cell_type": "code",
   "execution_count": 0,
   "metadata": {
    "application/vnd.databricks.v1+cell": {
     "cellMetadata": {
      "byteLimit": 2048000,
      "implicitDf": true,
      "rowLimit": 10000
     },
     "inputWidgets": {},
     "nuid": "c579355e-b52b-4b78-9371-00ecb0ddb1b5",
     "showTitle": false,
     "tableResultSettingsMap": {},
     "title": ""
    }
   },
   "outputs": [
    {
     "output_type": "display_data",
     "data": {
      "text/html": [
       "<style scoped>\n",
       "  .table-result-container {\n",
       "    max-height: 300px;\n",
       "    overflow: auto;\n",
       "  }\n",
       "  table, th, td {\n",
       "    border: 1px solid black;\n",
       "    border-collapse: collapse;\n",
       "  }\n",
       "  th, td {\n",
       "    padding: 5px;\n",
       "  }\n",
       "  th {\n",
       "    text-align: left;\n",
       "  }\n",
       "</style><div class='table-result-container'><table class='table-result'><thead style='background-color: white'><tr><th>rmse</th></tr></thead><tbody><tr><td>2.66</td></tr></tbody></table></div>"
      ]
     },
     "metadata": {
      "application/vnd.databricks.v1+output": {
       "addedWidgets": {},
       "aggData": [],
       "aggError": "",
       "aggOverflow": false,
       "aggSchema": [],
       "aggSeriesLimitReached": false,
       "aggType": "",
       "arguments": {},
       "columnCustomDisplayInfos": {},
       "data": [
        [
         2.66
        ]
       ],
       "datasetInfos": [],
       "dbfsResultPath": null,
       "isJsonSchema": true,
       "metadata": {},
       "overflow": false,
       "plotOptions": {
        "customPlotOptions": {},
        "displayType": "table",
        "pivotAggregation": null,
        "pivotColumns": null,
        "xColumns": null,
        "yColumns": null
       },
       "removedWidgets": [],
       "schema": [
        {
         "metadata": "{}",
         "name": "rmse",
         "type": "\"double\""
        }
       ],
       "type": "table"
      }
     },
     "output_type": "display_data"
    }
   ],
   "source": [
    "%sql\n",
    "SELECT \n",
    "    round(sqrt(avg(power((actual - forecast), 2))), 2) AS rmse \n",
    "    FROM (\n",
    "        SELECT \n",
    "            year_month, \n",
    "            distance_per_doller as actual, \n",
    "            lag(distance_per_doller, 1) over (order by year_month) as forecast \n",
    "            FROM (\n",
    "                SELECT year_month, \n",
    "                    total_distance/total_cost as distance_per_doller \n",
    "                    FROM (\n",
    "                        SELECT date_format(request_date, 'yyyy-M') as year_month, \n",
    "                            sum(distance_to_travel) as total_distance, \n",
    "                            sum(monetary_cost) as total_cost \n",
    "                            FROM uber_request_logs \n",
    "                                GROUP BY date_format(request_date, 'yyyy-M')))\n",
    "            )\n",
    "        "
   ]
  },
  {
   "cell_type": "code",
   "execution_count": 0,
   "metadata": {
    "application/vnd.databricks.v1+cell": {
     "cellMetadata": {
      "byteLimit": 2048000,
      "implicitDf": true,
      "rowLimit": 10000
     },
     "inputWidgets": {},
     "nuid": "814f65f7-93e3-4939-9ba8-00b1b3a6a864",
     "showTitle": false,
     "tableResultSettingsMap": {},
     "title": ""
    }
   },
   "outputs": [
    {
     "output_type": "display_data",
     "data": {
      "text/html": [
       "<style scoped>\n",
       "  .table-result-container {\n",
       "    max-height: 300px;\n",
       "    overflow: auto;\n",
       "  }\n",
       "  table, th, td {\n",
       "    border: 1px solid black;\n",
       "    border-collapse: collapse;\n",
       "  }\n",
       "  th, td {\n",
       "    padding: 5px;\n",
       "  }\n",
       "  th {\n",
       "    text-align: left;\n",
       "  }\n",
       "</style><div class='table-result-container'><table class='table-result'><thead style='background-color: white'><tr><th>rmse</th></tr></thead><tbody><tr><td>2.34</td></tr></tbody></table></div>"
      ]
     },
     "metadata": {
      "application/vnd.databricks.v1+output": {
       "addedWidgets": {},
       "aggData": [],
       "aggError": "",
       "aggOverflow": false,
       "aggSchema": [],
       "aggSeriesLimitReached": false,
       "aggType": "",
       "arguments": {},
       "columnCustomDisplayInfos": {},
       "data": [
        [
         2.34
        ]
       ],
       "datasetInfos": [],
       "dbfsResultPath": null,
       "isJsonSchema": true,
       "metadata": {},
       "overflow": false,
       "plotOptions": {
        "customPlotOptions": {},
        "displayType": "table",
        "pivotAggregation": null,
        "pivotColumns": null,
        "xColumns": null,
        "yColumns": null
       },
       "removedWidgets": [],
       "schema": [
        {
         "metadata": "{}",
         "name": "rmse",
         "type": "\"double\""
        }
       ],
       "type": "table"
      }
     },
     "output_type": "display_data"
    }
   ],
   "source": [
    "%sql\n",
    "WITH monthly_uber_logs AS (\n",
    "  SELECT\n",
    "    date_format(request_date, 'yyyy-MM') as year_month,\n",
    "    sum(distance_to_travel) as total_distance,\n",
    "    sum(monetary_cost) as total_cost\n",
    "    FROM uber_request_logs\n",
    "    GROUP BY date_format(request_date, 'yyyy-MM')\n",
    "),\n",
    "distance_per_doller AS (\n",
    "  SELECT \n",
    "    year_month,\n",
    "    total_distance/total_cost as distance_per_doller\n",
    "    FROM monthly_uber_logs\n",
    "),\n",
    "navie_foracast AS (\n",
    "  SELECT \n",
    "    year_month,\n",
    "    distance_per_doller as actual,\n",
    "    lag(distance_per_doller, 1) over(order by year_month) as forecast\n",
    "    FROM distance_per_doller\n",
    ")\n",
    "SELECT ROUND(sqrt(avg(power((actual-forecast),2))), 2) as rmse FROM navie_foracast"
   ]
  },
  {
   "cell_type": "code",
   "execution_count": 0,
   "metadata": {
    "application/vnd.databricks.v1+cell": {
     "cellMetadata": {
      "byteLimit": 2048000,
      "rowLimit": 10000
     },
     "inputWidgets": {},
     "nuid": "794c6028-fc23-40b4-b07a-e309d255bfcd",
     "showTitle": false,
     "tableResultSettingsMap": {},
     "title": ""
    }
   },
   "outputs": [],
   "source": [
    "data_columns = ['request_id', 'request_date', 'request_status', 'distance_to_travel', 'monetary_cost', 'driver_to_client_distance']\n",
    "data = [(1,'2020-01-09','success', 70.59, 6.56,14.36), (2,'2020-01-24','success', 93.36, 22.68,19.9), (3,'2020-02-08','fail', 51.24, 11.39,21.32), (4,'2020-02-23','success', 61.58,8.04,44.26), (5,'2020-03-09','success', 25.04,7.19,1.74), (6,'2020-03-24','fail', 45.57, 4.68,24.19), (7,'2020-04-08','success', 24.45,12.69,15.91), (8,'2020-04-23','success', 48.22,11.2,48.82), (9,'2020-05-08','success', 56.63,4.04,16.08), (10,'2020-05-23','fail', 19.03,16.65,11.22), (11,'2020-06-07','fail', 81.0,6.56,26.6), (12,'2020-06-22','fail', 21.32,8.86,28.57), (13,'2020-07-07','fail', 14.74,17.76,19.33), (14,'2020-07-22','success',66.73,13.68,14.07), (15,'2020-08-06','success',32.98,16.17,25.34), (16,'2020-08-21','success',46.49,1.84,41.9), (17,'2020-09-05','fail', 45.98,12.2,2.46), (18,'2020-09-20','success',3.14,24.8,36.6), (19,'2020-10-05','success',75.33,23.04,29.99), (20,'2020-10-20','success', 53.76,22.94,18.74)]"
   ]
  },
  {
   "cell_type": "code",
   "execution_count": 0,
   "metadata": {
    "application/vnd.databricks.v1+cell": {
     "cellMetadata": {
      "byteLimit": 2048000,
      "rowLimit": 10000
     },
     "inputWidgets": {},
     "nuid": "974fefb9-1d4b-4728-9bb0-aa336c9c11d5",
     "showTitle": false,
     "tableResultSettingsMap": {},
     "title": ""
    }
   },
   "outputs": [
    {
     "output_type": "stream",
     "name": "stdout",
     "output_type": "stream",
     "text": [
      "+----------+------------+--------------+------------------+-------------+-------------------------+\n|request_id|request_date|request_status|distance_to_travel|monetary_cost|driver_to_client_distance|\n+----------+------------+--------------+------------------+-------------+-------------------------+\n|         1|  2020-01-09|       success|             70.59|         6.56|                    14.36|\n|         2|  2020-01-24|       success|             93.36|        22.68|                     19.9|\n|         3|  2020-02-08|          fail|             51.24|        11.39|                    21.32|\n|         4|  2020-02-23|       success|             61.58|         8.04|                    44.26|\n|         5|  2020-03-09|       success|             25.04|         7.19|                     1.74|\n|         6|  2020-03-24|          fail|             45.57|         4.68|                    24.19|\n|         7|  2020-04-08|       success|             24.45|        12.69|                    15.91|\n|         8|  2020-04-23|       success|             48.22|         11.2|                    48.82|\n|         9|  2020-05-08|       success|             56.63|         4.04|                    16.08|\n|        10|  2020-05-23|          fail|             19.03|        16.65|                    11.22|\n|        11|  2020-06-07|          fail|              81.0|         6.56|                     26.6|\n|        12|  2020-06-22|          fail|             21.32|         8.86|                    28.57|\n|        13|  2020-07-07|          fail|             14.74|        17.76|                    19.33|\n|        14|  2020-07-22|       success|             66.73|        13.68|                    14.07|\n|        15|  2020-08-06|       success|             32.98|        16.17|                    25.34|\n|        16|  2020-08-21|       success|             46.49|         1.84|                     41.9|\n|        17|  2020-09-05|          fail|             45.98|         12.2|                     2.46|\n|        18|  2020-09-20|       success|              3.14|         24.8|                     36.6|\n|        19|  2020-10-05|       success|             75.33|        23.04|                    29.99|\n|        20|  2020-10-20|       success|             53.76|        22.94|                    18.74|\n+----------+------------+--------------+------------------+-------------+-------------------------+\n\n"
     ]
    }
   ],
   "source": [
    "uber_request_logs_df = spark.createDataFrame(data=data, schema=data_columns)\n",
    "uber_request_logs_df.show()"
   ]
  },
  {
   "cell_type": "code",
   "execution_count": 0,
   "metadata": {
    "application/vnd.databricks.v1+cell": {
     "cellMetadata": {
      "byteLimit": 2048000,
      "rowLimit": 10000
     },
     "inputWidgets": {},
     "nuid": "e67f5a2d-b012-490a-9152-b41a6313e7a0",
     "showTitle": false,
     "tableResultSettingsMap": {},
     "title": ""
    }
   },
   "outputs": [
    {
     "output_type": "stream",
     "name": "stdout",
     "output_type": "stream",
     "text": [
      "root\n |-- request_id: long (nullable = true)\n |-- request_date: string (nullable = true)\n |-- request_status: string (nullable = true)\n |-- distance_to_travel: double (nullable = true)\n |-- monetary_cost: double (nullable = true)\n |-- driver_to_client_distance: double (nullable = true)\n\n"
     ]
    }
   ],
   "source": [
    "uber_request_logs_df.printSchema()"
   ]
  },
  {
   "cell_type": "code",
   "execution_count": 0,
   "metadata": {
    "application/vnd.databricks.v1+cell": {
     "cellMetadata": {
      "byteLimit": 2048000,
      "rowLimit": 10000
     },
     "inputWidgets": {},
     "nuid": "8fa101ac-5005-4e83-910b-8859e9027909",
     "showTitle": false,
     "tableResultSettingsMap": {},
     "title": ""
    }
   },
   "outputs": [
    {
     "output_type": "stream",
     "name": "stdout",
     "output_type": "stream",
     "text": [
      "+----------+--------------+------------------+\n|year_month|total_distance|        total_cost|\n+----------+--------------+------------------+\n|   2020-01|        163.95|             29.24|\n|   2020-02|        112.82|             19.43|\n|   2020-03|         70.61|11.870000000000001|\n|   2020-05|         75.66|20.689999999999998|\n|   2020-04|         72.67|             23.89|\n|   2020-06|        102.32|15.419999999999998|\n|   2020-07|         81.47|             31.44|\n|   2020-08|         79.47|             18.01|\n|   2020-09|         49.12|              37.0|\n|   2020-10|        129.09|45.980000000000004|\n+----------+--------------+------------------+\n\n"
     ]
    }
   ],
   "source": [
    "#------PySpark------------------------------------------------------------------------------------------\n",
    "from pyspark.sql.functions import to_date, col, cast, date_format\n",
    "from pyspark.sql import functions as F\n",
    "monthly_uber_logs_df = uber_request_logs_df.withColumn('year_month', date_format(to_date('request_date', 'yyyy-MM-dd'), 'yyyy-MM'))\n",
    "monthly_uber_logs_df = monthly_uber_logs_df.groupBy('year_month').agg(\n",
    "                            F.sum('distance_to_travel').alias('total_distance'),\n",
    "                            F.sum('monetary_cost').alias('total_cost')\n",
    ")\n",
    "monthly_uber_logs_df.show()"
   ]
  },
  {
   "cell_type": "code",
   "execution_count": 0,
   "metadata": {
    "application/vnd.databricks.v1+cell": {
     "cellMetadata": {
      "byteLimit": 2048000,
      "rowLimit": 10000
     },
     "inputWidgets": {},
     "nuid": "0cfa2630-dd39-4db2-b5f5-32190d470f65",
     "showTitle": false,
     "tableResultSettingsMap": {},
     "title": ""
    }
   },
   "outputs": [
    {
     "output_type": "stream",
     "name": "stdout",
     "output_type": "stream",
     "text": [
      "+----------+--------------+------------------+-------------------+\n|year_month|total_distance|        total_cost|distance_per_doller|\n+----------+--------------+------------------+-------------------+\n|   2020-01|        163.95|             29.24|   5.60704514363885|\n|   2020-02|        112.82|             19.43|  5.806484817292846|\n|   2020-03|         70.61|11.870000000000001|  5.948609941027801|\n|   2020-05|         75.66|20.689999999999998| 3.6568390526824555|\n|   2020-04|         72.67|             23.89|  3.041858518208455|\n|   2020-06|        102.32|15.419999999999998|  6.635538261997406|\n|   2020-07|         81.47|             31.44| 2.5912849872773536|\n|   2020-08|         79.47|             18.01|  4.412548584119933|\n|   2020-09|         49.12|              37.0| 1.3275675675675676|\n|   2020-10|        129.09|45.980000000000004|  2.807525010874293|\n+----------+--------------+------------------+-------------------+\n\n"
     ]
    }
   ],
   "source": [
    "distance_per_doller_df = monthly_uber_logs_df.withColumn('distance_per_doller', col('total_distance')/col('total_cost'))\n",
    "distance_per_doller_df.show()"
   ]
  },
  {
   "cell_type": "code",
   "execution_count": 0,
   "metadata": {
    "application/vnd.databricks.v1+cell": {
     "cellMetadata": {
      "byteLimit": 2048000,
      "rowLimit": 10000
     },
     "inputWidgets": {},
     "nuid": "6445192c-0978-4c57-88ae-32f8fd3868fa",
     "showTitle": false,
     "tableResultSettingsMap": {},
     "title": ""
    }
   },
   "outputs": [
    {
     "output_type": "stream",
     "name": "stdout",
     "output_type": "stream",
     "text": [
      "+----------+------------------+------------------+\n|year_month|            actual|          forecast|\n+----------+------------------+------------------+\n|   2020-01|  5.60704514363885|              null|\n|   2020-02| 5.806484817292846|  5.60704514363885|\n|   2020-03| 5.948609941027801| 5.806484817292846|\n|   2020-04| 3.041858518208455| 5.948609941027801|\n|   2020-05|3.6568390526824555| 3.041858518208455|\n|   2020-06| 6.635538261997406|3.6568390526824555|\n|   2020-07|2.5912849872773536| 6.635538261997406|\n|   2020-08| 4.412548584119933|2.5912849872773536|\n|   2020-09|1.3275675675675676| 4.412548584119933|\n|   2020-10| 2.807525010874293|1.3275675675675676|\n+----------+------------------+------------------+\n\n"
     ]
    }
   ],
   "source": [
    "from pyspark.sql.functions import lag\n",
    "from pyspark.sql.window import Window\n",
    "window_spec = Window.orderBy('year_month')\n",
    "navie_forecast_df = distance_per_doller_df.select(col('year_month'),col('distance_per_doller').alias('actual'), lag(col('distance_per_doller'), 1).over(window_spec).alias('forecast'))\n",
    "navie_forecast_df.show()"
   ]
  },
  {
   "cell_type": "code",
   "execution_count": 0,
   "metadata": {
    "application/vnd.databricks.v1+cell": {
     "cellMetadata": {
      "byteLimit": 2048000,
      "rowLimit": 10000
     },
     "inputWidgets": {},
     "nuid": "33f94aee-56e8-4f98-ab67-4a825d2fda2b",
     "showTitle": false,
     "tableResultSettingsMap": {},
     "title": ""
    }
   },
   "outputs": [
    {
     "output_type": "stream",
     "name": "stdout",
     "output_type": "stream",
     "text": [
      "+----+\n|rmse|\n+----+\n|2.34|\n+----+\n\n"
     ]
    }
   ],
   "source": [
    "from pyspark.sql.functions import sqrt, avg, pow, round\n",
    "rmse = navie_forecast_df.select(round(sqrt(avg(pow((col('actual')-col('forecast')), 2))), 2).alias('rmse'))\n",
    "rmse.show()"
   ]
  },
  {
   "cell_type": "code",
   "execution_count": 0,
   "metadata": {
    "application/vnd.databricks.v1+cell": {
     "cellMetadata": {
      "byteLimit": 2048000,
      "rowLimit": 10000
     },
     "inputWidgets": {},
     "nuid": "47718b85-528c-4c60-8652-b827c0572a9c",
     "showTitle": false,
     "tableResultSettingsMap": {},
     "title": ""
    }
   },
   "outputs": [
    {
     "output_type": "display_data",
     "data": {
      "text/html": [
       "<div>\n",
       "<style scoped>\n",
       "    .dataframe tbody tr th:only-of-type {\n",
       "        vertical-align: middle;\n",
       "    }\n",
       "\n",
       "    .dataframe tbody tr th {\n",
       "        vertical-align: top;\n",
       "    }\n",
       "\n",
       "    .dataframe thead th {\n",
       "        text-align: right;\n",
       "    }\n",
       "</style>\n",
       "<table border=\"1\" class=\"dataframe\">\n",
       "  <thead>\n",
       "    <tr style=\"text-align: right;\">\n",
       "      <th></th>\n",
       "      <th>year_month</th>\n",
       "      <th>actual</th>\n",
       "      <th>forecast</th>\n",
       "    </tr>\n",
       "  </thead>\n",
       "  <tbody>\n",
       "    <tr>\n",
       "      <th>0</th>\n",
       "      <td>2020-01</td>\n",
       "      <td>5.607045</td>\n",
       "      <td>NaN</td>\n",
       "    </tr>\n",
       "    <tr>\n",
       "      <th>1</th>\n",
       "      <td>2020-02</td>\n",
       "      <td>5.806485</td>\n",
       "      <td>5.607045</td>\n",
       "    </tr>\n",
       "    <tr>\n",
       "      <th>2</th>\n",
       "      <td>2020-03</td>\n",
       "      <td>5.948610</td>\n",
       "      <td>5.806485</td>\n",
       "    </tr>\n",
       "    <tr>\n",
       "      <th>3</th>\n",
       "      <td>2020-04</td>\n",
       "      <td>3.041859</td>\n",
       "      <td>5.948610</td>\n",
       "    </tr>\n",
       "    <tr>\n",
       "      <th>4</th>\n",
       "      <td>2020-05</td>\n",
       "      <td>3.656839</td>\n",
       "      <td>3.041859</td>\n",
       "    </tr>\n",
       "  </tbody>\n",
       "</table>\n",
       "</div>"
      ]
     },
     "metadata": {
      "application/vnd.databricks.v1+output": {
       "addedWidgets": {},
       "arguments": {},
       "data": "<div>\n<style scoped>\n    .dataframe tbody tr th:only-of-type {\n        vertical-align: middle;\n    }\n\n    .dataframe tbody tr th {\n        vertical-align: top;\n    }\n\n    .dataframe thead th {\n        text-align: right;\n    }\n</style>\n<table border=\"1\" class=\"dataframe\">\n  <thead>\n    <tr style=\"text-align: right;\">\n      <th></th>\n      <th>year_month</th>\n      <th>actual</th>\n      <th>forecast</th>\n    </tr>\n  </thead>\n  <tbody>\n    <tr>\n      <th>0</th>\n      <td>2020-01</td>\n      <td>5.607045</td>\n      <td>NaN</td>\n    </tr>\n    <tr>\n      <th>1</th>\n      <td>2020-02</td>\n      <td>5.806485</td>\n      <td>5.607045</td>\n    </tr>\n    <tr>\n      <th>2</th>\n      <td>2020-03</td>\n      <td>5.948610</td>\n      <td>5.806485</td>\n    </tr>\n    <tr>\n      <th>3</th>\n      <td>2020-04</td>\n      <td>3.041859</td>\n      <td>5.948610</td>\n    </tr>\n    <tr>\n      <th>4</th>\n      <td>2020-05</td>\n      <td>3.656839</td>\n      <td>3.041859</td>\n    </tr>\n  </tbody>\n</table>\n</div>",
       "datasetInfos": [],
       "metadata": {},
       "removedWidgets": [],
       "textData": null,
       "type": "htmlSandbox"
      }
     },
     "output_type": "display_data"
    }
   ],
   "source": [
    "#------Pandas------------------------------------------------------------------------------------------\n",
    "import pandas as pd\n",
    "pd_uber_request_logs_df = pd.DataFrame(data=data, columns=data_columns)\n",
    "pd_uber_request_logs_df['request_date'] = pd.to_datetime(pd_uber_request_logs_df.request_date)\n",
    "pd_uber_request_logs_df['year_month'] = pd_uber_request_logs_df['request_date'].dt.to_period('M')\n",
    "pd_monhtly_user_logs_df = pd_uber_request_logs_df.groupby('year_month').agg(total_distance = ('distance_to_travel', 'sum'), total_cost = ('monetary_cost', 'sum')).reset_index()\n",
    "pd_monhtly_user_logs_df['distance_per_doller'] = pd_monhtly_user_logs_df.total_distance/pd_monhtly_user_logs_df.total_cost\n",
    "pd_navie_forecast_df = pd_monhtly_user_logs_df[['year_month', 'distance_per_doller']].rename(columns = {'distance_per_doller' : 'actual'})\n",
    "pd_navie_forecast_df['forecast'] = pd_navie_forecast_df['actual'].shift(1)\n",
    "pd_navie_forecast_df.head()\n"
   ]
  },
  {
   "cell_type": "code",
   "execution_count": 0,
   "metadata": {
    "application/vnd.databricks.v1+cell": {
     "cellMetadata": {
      "byteLimit": 2048000,
      "rowLimit": 10000
     },
     "inputWidgets": {},
     "nuid": "62033362-3ba6-4204-bbb1-772986742f7a",
     "showTitle": false,
     "tableResultSettingsMap": {},
     "title": ""
    }
   },
   "outputs": [
    {
     "output_type": "stream",
     "name": "stdout",
     "output_type": "stream",
     "text": [
      "2.34\n"
     ]
    }
   ],
   "source": [
    "import numpy as np\n",
    "rmse = np.round(np.sqrt(np.mean(np.power((pd_navie_forecast_df.actual - pd_navie_forecast_df.forecast), 2))), 2)\n",
    "print(rmse)\n"
   ]
  },
  {
   "cell_type": "code",
   "execution_count": 0,
   "metadata": {
    "application/vnd.databricks.v1+cell": {
     "cellMetadata": {},
     "inputWidgets": {},
     "nuid": "0ee709a4-d937-4bbd-8096-c5245527e7c5",
     "showTitle": false,
     "tableResultSettingsMap": {},
     "title": ""
    }
   },
   "outputs": [],
   "source": []
  }
 ],
 "metadata": {
  "application/vnd.databricks.v1+notebook": {
   "computePreferences": null,
   "dashboards": [],
   "environmentMetadata": {
    "base_environment": "",
    "environment_version": "1"
   },
   "inputWidgetPreferences": null,
   "language": "python",
   "notebookMetadata": {
    "mostRecentlyExecutedCommandWithImplicitDF": {
     "commandId": 600356737046864,
     "dataframes": [
      "_sqldf"
     ]
    },
    "pythonIndentUnit": 4
   },
   "notebookName": "Day 1-4",
   "widgets": {}
  }
 },
 "nbformat": 4,
 "nbformat_minor": 0
}